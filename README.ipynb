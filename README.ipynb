{
 "cells": [
  {
   "cell_type": "markdown",
   "metadata": {},
   "source": [
    "# RoboTSP: Robotic Task Sequencing Problem\n",
    "[![Build Status](https://travis-ci.org/crigroup/robotsp.svg?branch=master)](https://travis-ci.org/crigroup/robotsp)\n",
    "\n",
    "RoboTSP is a ROS package for solving the Robotic Task Sequencing Problem\n",
    "developed by [CRI Group](http://www.ntu.edu.sg/home/cuong/),\n",
    "[Nanyang Technological University, Singapore](http://www.ntu.edu.sg).\n",
    "\n",
    "- **Source:** https://github.com/crigroup/robotsp\n",
    "- **Bug reports:** https://github.com/crigroup/robotsp/issues\n",
    "\n",
    "### Maintainer\n",
    "* [Francisco Suárez Ruiz](http://fsuarez6.github.io)\n",
    "\n",
    "### Documentation\n",
    "* Throughout the various files in this repository.\n",
    "* Website: https://crigroup.github.io/robotsp/\n",
    "\n",
    "## Demo\n",
    "[![RoboTSP video](https://img.youtube.com/vi/w33QfRjKFs8/0.jpg)](https://www.youtube.com/watch?v=w33QfRjKFs8)"
   ]
  }
 ],

 "metadata": {
  "kernelspec": {
   "display_name": "Bash",
   "language": "bash",
   "name": "bash"
  },
  "language_info": {
   "codemirror_mode": "shell",
   "file_extension": ".sh",
   "mimetype": "text/x-sh",
   "name": "bash"
  }
 },
 "nbformat": 4,
 "nbformat_minor": 2
}
